{
  "nbformat": 4,
  "nbformat_minor": 0,
  "metadata": {
    "colab": {
      "provenance": [],
      "authorship_tag": "ABX9TyO2TZbXWLa488NKaX6Z8RAw",
      "include_colab_link": true
    },
    "kernelspec": {
      "name": "python3",
      "display_name": "Python 3"
    },
    "language_info": {
      "name": "python"
    }
  },
  "cells": [
    {
      "cell_type": "markdown",
      "metadata": {
        "id": "view-in-github",
        "colab_type": "text"
      },
      "source": [
        "<a href=\"https://colab.research.google.com/github/Rinku9935/2001206105_ECE/blob/main/Copy_of_AIML2023.ipynb\" target=\"_parent\"><img src=\"https://colab.research.google.com/assets/colab-badge.svg\" alt=\"Open In Colab\"/></a>"
      ]
    },
    {
      "cell_type": "code",
      "execution_count": null,
      "metadata": {
        "colab": {
          "base_uri": "https://localhost:8080/"
        },
        "id": "KIUGa0g2orcu",
        "outputId": "835fb74e-c36b-4b28-bcd7-739f67200e11"
      },
      "outputs": [
        {
          "output_type": "stream",
          "name": "stdout",
          "text": [
            "hello\n"
          ]
        }
      ],
      "source": [
        "print('hello')"
      ]
    },
    {
      "cell_type": "code",
      "source": [
        "print('hello abit') \n",
        "print('department of ece')"
      ],
      "metadata": {
        "colab": {
          "base_uri": "https://localhost:8080/"
        },
        "id": "qUdx1R6frABP",
        "outputId": "b1829c1a-d3ec-452e-9207-9581ce5c4ff4"
      },
      "execution_count": null,
      "outputs": [
        {
          "output_type": "stream",
          "name": "stdout",
          "text": [
            "hello abit\n",
            "department of ece\n"
          ]
        }
      ]
    },
    {
      "cell_type": "code",
      "source": [
        "print('hello',end=' ')\n",
        "print('dept of abit')"
      ],
      "metadata": {
        "colab": {
          "base_uri": "https://localhost:8080/"
        },
        "id": "A858dxrwr3hR",
        "outputId": "67150341-d60b-4527-eb85-ba85578dc3f7"
      },
      "execution_count": null,
      "outputs": [
        {
          "output_type": "stream",
          "name": "stdout",
          "text": [
            "hello dept of abit\n"
          ]
        }
      ]
    },
    {
      "cell_type": "code",
      "source": [
        "# using of sep='' in print().\n",
        "a=2\n",
        "b=3\n",
        "c=1999\n",
        "print(a,b,c,sep='/')"
      ],
      "metadata": {
        "colab": {
          "base_uri": "https://localhost:8080/"
        },
        "id": "uY-ySWTlshUP",
        "outputId": "84fd09bb-1fc4-4263-f348-d1afc3727f69"
      },
      "execution_count": null,
      "outputs": [
        {
          "output_type": "stream",
          "name": "stdout",
          "text": [
            "2/3/1999\n"
          ]
        }
      ]
    },
    {
      "cell_type": "code",
      "source": [
        "x=0b10100\n",
        "y=100\n",
        "z=0o215\n",
        "u=0x12d\n",
        "#float literal\n",
        "float_1=100.5\n",
        "float_2=1.5e2\n",
        "#Complex Literal\n",
        "a = 5+3.14j\n",
        "print(x,y,z,u)\n",
        "print(float_1,float_2)\n",
        "print(a,a.imag,a.real)"
      ],
      "metadata": {
        "id": "nSeqZHKvuhOS",
        "outputId": "0d721d49-82d3-49a2-fdc8-8473518a6e2e",
        "colab": {
          "base_uri": "https://localhost:8080/"
        }
      },
      "execution_count": 2,
      "outputs": [
        {
          "output_type": "stream",
          "name": "stdout",
          "text": [
            "20 100 141 301\n",
            "100.5 150.0\n",
            "(5+3.14j) 3.14 5.0\n"
          ]
        }
      ]
    },
    {
      "cell_type": "code",
      "source": [
        "a=23+5j\n",
        "b=2+5.12j\n",
        "c=a+b\n",
        "print(c)"
      ],
      "metadata": {
        "id": "28V4ozxIxMr6",
        "outputId": "74afafbe-9b23-4a3b-8efe-22c741236fc4",
        "colab": {
          "base_uri": "https://localhost:8080/"
        }
      },
      "execution_count": null,
      "outputs": [
        {
          "output_type": "stream",
          "name": "stdout",
          "text": [
            "(25+10.120000000000001j)\n"
          ]
        }
      ]
    },
    {
      "cell_type": "code",
      "source": [],
      "metadata": {
        "id": "099pD828zVeT"
      },
      "execution_count": null,
      "outputs": []
    },
    {
      "cell_type": "code",
      "source": [
        "\n",
        "a=input('enter 1st no=')\n",
        "b=input('enter 2nd no=')\n",
        "c=a+b\n",
        "print('c=',c)"
      ],
      "metadata": {
        "outputId": "074bfbea-bb83-4e8b-a93e-e62cc94fc3a1",
        "colab": {
          "base_uri": "https://localhost:8080/"
        },
        "id": "lvMaDHVvzd9R"
      },
      "execution_count": 5,
      "outputs": [
        {
          "output_type": "stream",
          "name": "stdout",
          "text": [
            "enter 1st no=12\n",
            "enter 2nd no=21\n",
            "c= 1221\n"
          ]
        }
      ]
    },
    {
      "cell_type": "code",
      "source": [
        "a=int(input('enter 1st no='))\n",
        "b=int(input('enter 2nd no='))\n",
        "c=a+b\n",
        "print('c=',c)"
      ],
      "metadata": {
        "colab": {
          "base_uri": "https://localhost:8080/"
        },
        "id": "X9k_WmKKvWJz",
        "outputId": "bf86bd19-fa37-4f3c-b5e4-62cd467c3321"
      },
      "execution_count": null,
      "outputs": [
        {
          "output_type": "stream",
          "name": "stdout",
          "text": [
            "enter 1st no=12\n",
            "enter 2nd no=11\n",
            "c= 23\n"
          ]
        }
      ]
    },
    {
      "cell_type": "code",
      "source": [
        "# using of /,//,** in arithmetic operator\n",
        "s=14\n",
        "c=5\n",
        "d=s/c\n",
        "print(d)\n",
        "E=s//c\n",
        "print(E)\n",
        "r=s**c\n",
        "print(r)"
      ],
      "metadata": {
        "id": "TfVd6Qqq0ETl",
        "outputId": "7db3796c-1963-418f-d4c3-8e06997b0488",
        "colab": {
          "base_uri": "https://localhost:8080/"
        }
      },
      "execution_count": 15,
      "outputs": [
        {
          "output_type": "stream",
          "name": "stdout",
          "text": [
            "2.8\n",
            "2\n",
            "537824\n"
          ]
        }
      ]
    }
  ]
}