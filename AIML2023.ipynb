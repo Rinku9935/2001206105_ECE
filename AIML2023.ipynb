{
  "nbformat": 4,
  "nbformat_minor": 0,
  "metadata": {
    "colab": {
      "provenance": [],
      "authorship_tag": "ABX9TyMfRtrvkbvVEA+WFaeLNiP6",
      "include_colab_link": true
    },
    "kernelspec": {
      "name": "python3",
      "display_name": "Python 3"
    },
    "language_info": {
      "name": "python"
    }
  },
  "cells": [
    {
      "cell_type": "markdown",
      "metadata": {
        "id": "view-in-github",
        "colab_type": "text"
      },
      "source": [
        "<a href=\"https://colab.research.google.com/github/Rinku9935/2001206105_ECE/blob/main/AIML2023.ipynb\" target=\"_parent\"><img src=\"https://colab.research.google.com/assets/colab-badge.svg\" alt=\"Open In Colab\"/></a>"
      ]
    },
    {
      "cell_type": "code",
      "execution_count": null,
      "metadata": {
        "colab": {
          "base_uri": "https://localhost:8080/"
        },
        "id": "KIUGa0g2orcu",
        "outputId": "835fb74e-c36b-4b28-bcd7-739f67200e11"
      },
      "outputs": [
        {
          "output_type": "stream",
          "name": "stdout",
          "text": [
            "hello\n"
          ]
        }
      ],
      "source": [
        "print('hello')"
      ]
    },
    {
      "cell_type": "code",
      "source": [
        "print('hello abit') \n",
        "print('department of ece')"
      ],
      "metadata": {
        "colab": {
          "base_uri": "https://localhost:8080/"
        },
        "id": "qUdx1R6frABP",
        "outputId": "b1829c1a-d3ec-452e-9207-9581ce5c4ff4"
      },
      "execution_count": null,
      "outputs": [
        {
          "output_type": "stream",
          "name": "stdout",
          "text": [
            "hello abit\n",
            "department of ece\n"
          ]
        }
      ]
    },
    {
      "cell_type": "code",
      "source": [
        "print('hello',end=' ')\n",
        "print('dept of abit')"
      ],
      "metadata": {
        "colab": {
          "base_uri": "https://localhost:8080/"
        },
        "id": "A858dxrwr3hR",
        "outputId": "67150341-d60b-4527-eb85-ba85578dc3f7"
      },
      "execution_count": null,
      "outputs": [
        {
          "output_type": "stream",
          "name": "stdout",
          "text": [
            "hello dept of abit\n"
          ]
        }
      ]
    },
    {
      "cell_type": "code",
      "source": [
        "# using of sep='' in print().\n",
        "a=2\n",
        "b=3\n",
        "c=1999\n",
        "print(a,b,c,sep='/')"
      ],
      "metadata": {
        "colab": {
          "base_uri": "https://localhost:8080/"
        },
        "id": "uY-ySWTlshUP",
        "outputId": "84fd09bb-1fc4-4263-f348-d1afc3727f69"
      },
      "execution_count": null,
      "outputs": [
        {
          "output_type": "stream",
          "name": "stdout",
          "text": [
            "2/3/1999\n"
          ]
        }
      ]
    },
    {
      "cell_type": "code",
      "source": [
        "a=19+6j\n",
        "print(a,type(a))\n",
        "a='2.2'\n",
        "print(a,type(a))"
      ],
      "metadata": {
        "colab": {
          "base_uri": "https://localhost:8080/"
        },
        "outputId": "97d4d38f-af30-4456-b322-c206ce0e9d6a",
        "id": "oh7mjNP7sknP"
      },
      "execution_count": null,
      "outputs": [
        {
          "output_type": "stream",
          "name": "stdout",
          "text": [
            "(19+6j) <class 'complex'>\n",
            "2.2 <class 'str'>\n"
          ]
        }
      ]
    },
    {
      "cell_type": "code",
      "source": [
        "#using list data type MEMBERSHIP OPER...\n",
        "a=[10,20,\"python\"]\n",
        "a[2]=10\n",
        "a[1]=10\n",
        "print(a,type(a))"
      ],
      "metadata": {
        "colab": {
          "base_uri": "https://localhost:8080/"
        },
        "id": "8gyLfJF0s6Qh",
        "outputId": "bd1abe6c-056b-4529-f276-1b3b2ebdc49e"
      },
      "execution_count": null,
      "outputs": [
        {
          "output_type": "stream",
          "name": "stdout",
          "text": [
            "[10, 10, 10] <class 'list'>\n"
          ]
        }
      ]
    },
    {
      "cell_type": "code",
      "source": [
        "#tuple data type\n",
        "t=(10,\"hello\",90)\n",
        "print(t,type(t))"
      ],
      "metadata": {
        "colab": {
          "base_uri": "https://localhost:8080/"
        },
        "id": "GpCRBZvMtnks",
        "outputId": "b70e6c4b-0f0c-467f-b328-d994c310c8f5"
      },
      "execution_count": null,
      "outputs": [
        {
          "output_type": "stream",
          "name": "stdout",
          "text": [
            "(10, 'hello', 90) <class 'tuple'>\n"
          ]
        }
      ]
    },
    {
      "cell_type": "code",
      "source": [
        "a=int(input(\"enter the value of a=\"))\n",
        "if(a%2==0):\n",
        "    print(\"the no. is even\")\n",
        "else:\n",
        "   print(\"the no is odd\")"
      ],
      "metadata": {
        "id": "vORMaOgrQ3uP",
        "colab": {
          "base_uri": "https://localhost:8080/"
        },
        "outputId": "0e515ecc-ede7-43a1-ecb2-f0365e4f5304"
      },
      "execution_count": null,
      "outputs": [
        {
          "output_type": "stream",
          "name": "stdout",
          "text": [
            "enter the value of a=44\n",
            "the no. is even\n"
          ]
        }
      ]
    },
    {
      "cell_type": "code",
      "source": [
        "#using set data type\n",
        "a={\n",
        "    \"now\",10,22,22,10,'now'\n",
        "}\n",
        "print(a,type(a))\n",
        "a=2.2\n"
      ],
      "metadata": {
        "colab": {
          "base_uri": "https://localhost:8080/"
        },
        "id": "-yJ5jF__sE2x",
        "outputId": "e9cf6596-f9a1-4b3e-97a1-ca382bc38f2b"
      },
      "execution_count": null,
      "outputs": [
        {
          "output_type": "stream",
          "name": "stdout",
          "text": [
            "{10, 'now', 22} <class 'set'>\n"
          ]
        }
      ]
    },
    {
      "cell_type": "code",
      "source": [
        "#using dictionary data type\n",
        "d={\n",
        "   'sandip':\"rinku\",2:\"ece\",1:\"abit\"\n",
        "    }\n",
        "  \n",
        "print(d,type(d))"
      ],
      "metadata": {
        "colab": {
          "base_uri": "https://localhost:8080/"
        },
        "id": "AqkczkYnvIYz",
        "outputId": "7d93ee75-6eb6-4f57-c2ba-1f0f86cc6cc5"
      },
      "execution_count": null,
      "outputs": [
        {
          "output_type": "stream",
          "name": "stdout",
          "text": [
            "{'sandip': 'rinku', 2: 'ece', 1: 'abit'} <class 'dict'>\n"
          ]
        }
      ]
    },
    {
      "cell_type": "code",
      "source": [
        "#using if,elif,else statement\n",
        "a=int(input(\"enter the value 1:\"))\n",
        "b=int(input(\"enter the value 2:\"))\n",
        "oper=input(\"enter the operator(+,-,*,/)\")\n",
        "if(oper==\"+\"):\n",
        "   print(a+b)\n",
        "elif(oper==\"-\"):\n",
        "   print(a-b)\n",
        "elif(oper==\"*\"):\n",
        "   print(a*b)\n",
        "elif(oper==\"/\"):\n",
        "             print(a/b)\n",
        "else:       \n",
        "   print(\"invalid operator\")"
      ],
      "metadata": {
        "colab": {
          "base_uri": "https://localhost:8080/"
        },
        "id": "L9sH8xwxtT0T",
        "outputId": "ce8fd7ae-d05a-4ad8-ddee-b25bfdd47628"
      },
      "execution_count": 6,
      "outputs": [
        {
          "output_type": "stream",
          "name": "stdout",
          "text": [
            "enter the value 1:4\n",
            "enter the value 2:5\n",
            "enter the operator(+,-,*,/)+\n",
            "9\n"
          ]
        }
      ]
    },
    {
      "cell_type": "code",
      "source": [
        "r=float(input(\"enter the r value:\"))\n",
        "a=3.141*r*r\n",
        "print('Area=',a)\n",
        "p=2*3.141*r\n",
        "print(\"perimeter=\",p)"
      ],
      "metadata": {
        "colab": {
          "base_uri": "https://localhost:8080/"
        },
        "id": "9KrxLEOnCBLs",
        "outputId": "c7617331-2bde-4b80-cb4b-73997e36812c"
      },
      "execution_count": null,
      "outputs": [
        {
          "output_type": "stream",
          "name": "stdout",
          "text": [
            "enter the r value:3\n",
            "Area= 28.269\n",
            "perimeter= 18.846\n"
          ]
        }
      ]
    },
    {
      "cell_type": "code",
      "source": [
        "K=float(input(\"enter the value of k.m=\"))#k=kilometer\n",
        "C=K*100000 #centimeter value\n",
        "print('centimeter=',C)\n",
        "m=K*1000\n",
        "print('Meter=',m)\n",
        "mm=K*1000000\n",
        "print('milimeter=',mm)"
      ],
      "metadata": {
        "colab": {
          "base_uri": "https://localhost:8080/"
        },
        "id": "fWnBjyZNFwna",
        "outputId": "f025e035-e041-43e8-b6f0-378eda9ea820"
      },
      "execution_count": null,
      "outputs": [
        {
          "output_type": "stream",
          "name": "stdout",
          "text": [
            "enter the value of k.m=4\n",
            "centimeter= 400000.0\n",
            "Meter= 4000.0\n",
            "milimeter= 4000000.0\n"
          ]
        }
      ]
    },
    {
      "cell_type": "code",
      "source": [
        "a=45\n",
        "b=6\n",
        "print(a//b)"
      ],
      "metadata": {
        "colab": {
          "base_uri": "https://localhost:8080/"
        },
        "id": "2v0cDEV7sZ4p",
        "outputId": "3ff9b7a5-1b3e-429f-dbc1-3c663d5588c4"
      },
      "execution_count": null,
      "outputs": [
        {
          "output_type": "stream",
          "name": "stdout",
          "text": [
            "7\n"
          ]
        }
      ]
    },
    {
      "cell_type": "code",
      "source": [],
      "metadata": {
        "id": "Vg6f2Qa_H-2W"
      },
      "execution_count": null,
      "outputs": []
    },
    {
      "cell_type": "code",
      "source": [
        "a=eval(input(\"enter the value of a\"))\n",
        "if a%2==0:\n",
        " print(\"number is even\")\n",
        "else:\n",
        "  print(\"no is odd\")"
      ],
      "metadata": {
        "colab": {
          "base_uri": "https://localhost:8080/"
        },
        "id": "6v0rxM5R2WiX",
        "outputId": "5031e332-91d1-406e-943d-6fad7e4e2e5e"
      },
      "execution_count": 5,
      "outputs": [
        {
          "output_type": "stream",
          "name": "stdout",
          "text": [
            "enter the value of a5\n",
            "no is odd\n"
          ]
        }
      ]
    },
    {
      "cell_type": "code",
      "source": [
        "a=int(input(\"enter the value of a\"))\n",
        "if a==20:\n",
        "  print(\"no is equal to 20\")\n",
        "elif a==204:\n",
        "   print(\"no is equal to 204\")\n",
        "else :\n",
        "   print(\"no. is invalide\")"
      ],
      "metadata": {
        "colab": {
          "base_uri": "https://localhost:8080/"
        },
        "id": "G5g4rT1X5DXk",
        "outputId": "6f8f623e-38e1-4146-fee2-7505bffc703a"
      },
      "execution_count": 12,
      "outputs": [
        {
          "output_type": "stream",
          "name": "stdout",
          "text": [
            "enter the value of a33\n",
            "no. is invalide\n"
          ]
        }
      ]
    }
  ]
}